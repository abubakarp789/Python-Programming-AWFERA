{
 "cells": [
  {
   "cell_type": "markdown",
   "id": "header-info",
   "metadata": {},
   "source": [
    "# Python Programming Assignment 01 - Solutions\n",
    "\n",
    "**Student Name:** Abu Bakar  \n",
    "**Course:** Python Programming - AWFERA  \n",
    "**Assignment:** 01  \n",
    "**Date:** September 3, 2025  \n",
    "\n",
    "---\n",
    "\n",
    "## Assignment Overview\n",
    "This notebook contains solutions to Python Programming Assignment 01. Each solution includes:\n",
    "- Problem statement\n",
    "- Python code implementation\n",
    "- Output/results\n",
    "- Brief explanation where needed\n"
   ]
  },
  {
   "cell_type": "markdown",
   "id": "question-1",
   "metadata": {},
   "source": [
    "## Question 1\n",
    "*[Insert question from PDF here]*\n"
   ]
  },
  {
   "cell_type": "code",
   "execution_count": null,
   "id": "solution-1",
   "metadata": {},
   "outputs": [],
   "source": [
    "# Solution for Question 1\n",
    "# [Write Python code here based on the requirement from PDF]\n",
    "\n",
    "print(\"Solution for Question 1\")\n",
    "# Add your code implementation here"
   ]
  },
  {
   "cell_type": "markdown",
   "id": "question-2",
   "metadata": {},
   "source": [
    "## Question 2\n",
    "*[Insert question from PDF here]*\n"
   ]
  },
  {
   "cell_type": "code",
   "execution_count": null,
   "id": "solution-2",
   "metadata": {},
   "outputs": [],
   "source": [
    "# Solution for Question 2\n",
    "# [Write Python code here based on the requirement from PDF]\n",
    "\n",
    "print(\"Solution for Question 2\")\n",
    "# Add your code implementation here"
   ]
  },
  {
   "cell_type": "markdown",
   "id": "question-3",
   "metadata": {},
   "source": [
    "## Question 3\n",
    "*[Insert question from PDF here]*\n"
   ]
  },
  {
   "cell_type": "code",
   "execution_count": null,
   "id": "solution-3",
   "metadata": {},
   "outputs": [],
   "source": [
    "# Solution for Question 3\n",
    "# [Write Python code here based on the requirement from PDF]\n",
    "\n",
    "print(\"Solution for Question 3\")\n",
    "# Add your code implementation here"
   ]
  },
  {
   "cell_type": "markdown",
   "id": "question-4",
   "metadata": {},
   "source": [
    "## Question 4\n",
    "*[Insert question from PDF here]*\n"
   ]
  },
  {
   "cell_type": "code",
   "execution_count": null,
   "id": "solution-4",
   "metadata": {},
   "outputs": [],
   "source": [
    "# Solution for Question 4\n",
    "# [Write Python code here based on the requirement from PDF]\n",
    "\n",
    "print(\"Solution for Question 4\")\n",
    "# Add your code implementation here"
   ]
  },
  {
   "cell_type": "markdown",
   "id": "question-5",
   "metadata": {},
   "source": [
    "## Question 5\n",
    "*[Insert question from PDF here]*\n"
   ]
  },
  {
   "cell_type": "code",
   "execution_count": null,
   "id": "solution-5",
   "metadata": {},
   "outputs": [],
   "source": [
    "# Solution for Question 5\n",
    "# [Write Python code here based on the requirement from PDF]\n",
    "\n",
    "print(\"Solution for Question 5\")\n",
    "# Add your code implementation here"
   ]
  },
  {
   "cell_type": "markdown",
   "id": "conclusion",
   "metadata": {},
   "source": [
    "---\n",
    "\n",
    "## Conclusion\n",
    "This assignment helped practice fundamental Python programming concepts including:\n",
    "- [List key concepts learned]\n",
    "- [Programming techniques used]\n",
    "- [Any challenges faced and solutions]\n",
    "\n",
    "**Assignment completed by:** Abu Bakar  \n",
    "**Course:** Python Programming - AWFERA"
   ]
  }
 ],
 "metadata": {
  "kernelspec": {
   "display_name": "Python 3",
   "language": "python",
   "name": "python3"
  },
  "language_info": {
   "codemirror_mode": {
    "name": "ipython",
    "version": 3
   },
   "file_extension": ".py",
   "mimetype": "text/x-python",
   "name": "python",
   "nbconvert_exporter": "python",
   "pygments_lexer": "ipython3",
   "version": "3.8.5"
  }
 },
 "nbformat": 4,
 "nbformat_minor": 5
}
